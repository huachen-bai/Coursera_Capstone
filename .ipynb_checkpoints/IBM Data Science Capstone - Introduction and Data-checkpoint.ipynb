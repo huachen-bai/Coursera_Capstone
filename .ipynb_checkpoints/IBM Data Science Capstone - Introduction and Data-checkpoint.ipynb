{
 "cells": [
  {
   "cell_type": "markdown",
   "metadata": {},
   "source": [
    "# Purpose\n",
    "This workbook will mainly be used for the IBM Data Science - Applied Data Science Capstone project"
   ]
  },
  {
   "cell_type": "markdown",
   "metadata": {},
   "source": [
    "# IBM Data Science Capstone Project - Car Accident Severity"
   ]
  },
  {
   "cell_type": "markdown",
   "metadata": {},
   "source": [
    "## Table of Contents\n",
    "* [Introduction](#introduction)\n",
    "* [Data](#data)\n",
    "* [Methodology](#methodology)\n",
    "* [Results](#results)\n",
    "* [Discussion](#discussion)\n",
    "* [Conclusion](#conclusion)"
   ]
  },
  {
   "cell_type": "markdown",
   "metadata": {},
   "source": [
    "## Introduction <a name=\"introduction\"></a>"
   ]
  },
  {
   "cell_type": "markdown",
   "metadata": {},
   "source": [
    "In this project, we are interested in predicting the likely severity of accidents in the Seattle area based on environmental conditions.\n",
    "\n",
    "This could provide multiple benefits, such as: informing drivers of conditions correlated with higher accident severity to raise awareness and encourage safer driving; and allowing emergency responders to be plan ahead and be better prepared for severe accidents based on expected environmental conditions."
   ]
  },
  {
   "cell_type": "markdown",
   "metadata": {},
   "source": [
    "## Data <a name=\"data\"></a>"
   ]
  },
  {
   "cell_type": "markdown",
   "metadata": {},
   "source": [
    "The data set on historical accidents in the Seattle area consists of 37 variables and 194,673 entries covering: date and time, accident severity, collision type, number of people/pedestrians/bicycles/vehicles involved, number of injuries/serious injuries/fatalities, weather conditions, road conditions, light conditions, location, location details, whether speeding/inattention/drugs/alcohol were invovled, and other descriptive characteristics of the accident.\n",
    "\n",
    "Since we are interested in predicting the likely severity of accidents based on environmental conditions, we will primarily be predicting the severity of accidents to raise driver awareness and encourage safer driving, we will limit our independent variables to environmental variables beyond the control of the driver and set our dependent variable to the severity of the accidents which occur under the given environment.\n",
    "\n",
    "Thus we will use  WEATHER, ROADCOND and LIGHTCOND as our independent variables to predict the our independent variable, SEVERITYCODE."
   ]
  },
  {
   "cell_type": "markdown",
   "metadata": {},
   "source": [
    "## Methodology <a name=\"methodology\"></a>"
   ]
  },
  {
   "cell_type": "markdown",
   "metadata": {},
   "source": [
    "Content to be added in full report"
   ]
  },
  {
   "cell_type": "markdown",
   "metadata": {},
   "source": [
    "## Results  <a name=\"results\"></a>"
   ]
  },
  {
   "cell_type": "markdown",
   "metadata": {},
   "source": [
    "Content to be added in full report"
   ]
  },
  {
   "cell_type": "markdown",
   "metadata": {},
   "source": [
    "## Discussion <a name=\"discussion\"></a>"
   ]
  },
  {
   "cell_type": "markdown",
   "metadata": {},
   "source": [
    "Content to be added in full report"
   ]
  },
  {
   "cell_type": "markdown",
   "metadata": {},
   "source": [
    "## Conclusion <a name=\"conclusion\"></a>"
   ]
  },
  {
   "cell_type": "markdown",
   "metadata": {},
   "source": [
    "Content to be added in full report"
   ]
  }
 ],
 "metadata": {
  "kernelspec": {
   "display_name": "Python 3",
   "language": "python",
   "name": "python3"
  },
  "language_info": {
   "codemirror_mode": {
    "name": "ipython",
    "version": 3
   },
   "file_extension": ".py",
   "mimetype": "text/x-python",
   "name": "python",
   "nbconvert_exporter": "python",
   "pygments_lexer": "ipython3",
   "version": "3.8.3"
  }
 },
 "nbformat": 4,
 "nbformat_minor": 4
}
